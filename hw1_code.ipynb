{
 "cells": [
  {
   "cell_type": "code",
   "execution_count": 1,
   "metadata": {
    "collapsed": false
   },
   "outputs": [],
   "source": [
    "from Crypto.Util.strxor import strxor_c, strxor\n",
    "from Crypto.Cipher import AES\n",
    "from Crypto import Random\n",
    "from Crypto.Hash import SHA\n",
    "import hashlib\n",
    "import hmac\n",
    "import math"
   ]
  },
  {
   "cell_type": "code",
   "execution_count": 2,
   "metadata": {
    "collapsed": true
   },
   "outputs": [],
   "source": [
    "def hmac_sha1(k_mac_16, m):\n",
    "    ipad = 0x36\n",
    "    opad = 0x5C\n",
    "    k_16bytes = k_mac_16\n",
    "    k_64bytes_padded = k_16bytes + str('\\x00' * (64-len(k_16bytes)))\n",
    "    #print k_64bytes_padded.encode('hex')\n",
    "    outer = strxor_c(k_64bytes_padded, opad)\n",
    "    #print outer.encode('hex')\n",
    "    inner = strxor_c(k_64bytes_padded, ipad)\n",
    "    #print inner.encode('hex')\n",
    "    #hash(outer ∥ hash(inner ∥ message))\n",
    "    h1 = hashlib.sha1(inner+m).digest()\n",
    "    #xh1 = SHA.new(inner+m).digest()\n",
    "    #print h1.encode('hex'), xh1.encode('hex')\n",
    "    h2 = hashlib.sha1(outer+h1).digest()\n",
    "    #xh2 = SHA.new(outer+h1).digest()\n",
    "    #print h2.encode('hex'), xh2.encode('hex')\n",
    "    return h2"
   ]
  },
  {
   "cell_type": "code",
   "execution_count": 3,
   "metadata": {
    "collapsed": true
   },
   "outputs": [],
   "source": [
    "def breakinto_16byte_blocks(inputstring_multipleof_16):\n",
    "    size = len(inputstring_multipleof_16)\n",
    "    #print \"size\", size\n",
    "    output_list = []\n",
    "    if size == 16:\n",
    "        output_list.append(inputstring_multipleof_16)\n",
    "        #print \"no loop\"\n",
    "    else:\n",
    "        #print \"yes loop\"\n",
    "        for i in range(1, size/16+1):\n",
    "            x = i * 16\n",
    "            w = (i-1) * 16\n",
    "            output_list.append(inputstring_multipleof_16[w:x])\n",
    "    #print output_list\n",
    "    return output_list\n",
    "def combinefrom_16byte_chunks(inputlist_16byte_chunks):\n",
    "    output_string = \"\"\n",
    "    for x in inputlist_16byte_chunks:\n",
    "        output_string+=x\n",
    "    return output_string"
   ]
  },
  {
   "cell_type": "code",
   "execution_count": 4,
   "metadata": {
    "collapsed": true
   },
   "outputs": [],
   "source": [
    "def aes_cbc_enc(k, iv, m):\n",
    "    m2_blocks = breakinto_16byte_blocks(m)\n",
    "    #print \"m\", m.encode(\"hex\")\n",
    "    #print m2_blocks\n",
    "    ciphertext_blocks = []\n",
    "    curr_block_input = \"\"\n",
    "    curr_block_iv = iv\n",
    "    current_block_num = 0\n",
    "    aes_obj_ecb = AES.new(k, AES.MODE_ECB)\n",
    "    for block in m2_blocks:\n",
    "        #print \"currently encrypting this block\", block.encode(\"hex\")\n",
    "        curr_block_input = strxor(curr_block_iv, block)\n",
    "        #alternative way to xor ''.join(chr(ord(a) ^ ord(b)) for a,b in zip(prev_block_output, block))\n",
    "        curr_block_output = aes_obj_ecb.encrypt(curr_block_input)\n",
    "        ciphertext_blocks.append(curr_block_output)\n",
    "        curr_block_iv = curr_block_output\n",
    "        #print prev_block_output\n",
    "        current_block_num+=1\n",
    "    ciphertext = combinefrom_16byte_chunks(ciphertext_blocks)\n",
    "    return ciphertext"
   ]
  },
  {
   "cell_type": "code",
   "execution_count": 5,
   "metadata": {
    "collapsed": false
   },
   "outputs": [],
   "source": [
    "def encrypt(k_enc, k_mac, m):\n",
    "    hmac1 = hmac_sha1(k_mac, m)\n",
    "    #print \"hmac is\", hmac1.encode(\"hex\")\n",
    "    m1 = m + hmac1\n",
    "    #print \"before padding\", m1.encode(\"hex\")\n",
    "    n = len(m1)%16\n",
    "    if n != 0:\n",
    "        ps = bytes(bytearray([16-n]))*(16-n)\n",
    "    if n == 0:\n",
    "        ps = '\\x10' * 16\n",
    "    m2 = m1 + ps\n",
    "    #print \"after padding\", m2.encode(\"hex\"), \"length\", len(m2)\n",
    "    random_generator = Random.new()\n",
    "    iv = random_generator.read(16)\n",
    "    #iv = \"\\x01\\x02\\x01\\x02\\x01\\x02\\x01\\x02\\x01\\x02\\x01\\x02\\x01\\x02\\x01\\x02\"\n",
    "    ciphertext = iv + aes_cbc_enc(k_enc, iv, m2)\n",
    "    return ciphertext"
   ]
  },
  {
   "cell_type": "code",
   "execution_count": 6,
   "metadata": {
    "collapsed": true
   },
   "outputs": [],
   "source": [
    "def aes_cbc_dec(k, iv, c):\n",
    "    c_blocks = breakinto_16byte_blocks(c)\n",
    "    #print c.encode(\"hex\")\n",
    "    #print c_blocks\n",
    "    plaintext_blocks = []\n",
    "    curr_block_output = \"\"\n",
    "    curr_block_iv = iv\n",
    "    aes_obj_ecb = AES.new(k, AES.MODE_ECB)\n",
    "    for block in c_blocks:\n",
    "        #print \"currently decrypting this block\", block.encode(\"hex\")\n",
    "        #print \"current block iv\", curr_block_iv\n",
    "        curr_block_output = aes_obj_ecb.decrypt(block)\n",
    "        plaintext_blocks.append(strxor(curr_block_iv, curr_block_output))\n",
    "        #alternative way to xor: ''.join(chr(ord(a) ^ ord(b)) for a,b in zip(curr_block_output, curr_block_iv))\n",
    "        curr_block_iv = block\n",
    "    plaintext = combinefrom_16byte_chunks(plaintext_blocks)\n",
    "    return plaintext"
   ]
  },
  {
   "cell_type": "code",
   "execution_count": 7,
   "metadata": {
    "collapsed": false
   },
   "outputs": [],
   "source": [
    "def verify_padding(padding):\n",
    "    size = len(padding)\n",
    "    for x in padding:\n",
    "        if x != bytearray([size]):\n",
    "            return 0\n",
    "    return 1"
   ]
  },
  {
   "cell_type": "code",
   "execution_count": 9,
   "metadata": {
    "collapsed": true
   },
   "outputs": [],
   "source": [
    "def decrypt(k_dec, k_mac, c):\n",
    "    #print \"start\"\n",
    "    #print c\n",
    "    c = c.decode(\"hex\")\n",
    "    iv = c[0:16]\n",
    "    c1 = c[16:]\n",
    "    #print \"iv and c1\", iv.encode(\"hex\"), c1.encode(\"hex\")\n",
    "    m2 = aes_cbc_dec(k_dec, iv, c1)\n",
    "    print \"m2\", m2.encode(\"hex\")\n",
    "    n = int(m2[-1].encode('hex'), 16)\n",
    "    #print n\n",
    "    m2_padding = m2[-n:]\n",
    "    #print m2_padding\n",
    "    if verify_padding(m2_padding) == 0:\n",
    "        print \"INVALID PADDING\"\n",
    "        return \"0\"\n",
    "    m1 = m2[:-n]\n",
    "    m = m1[:-20]\n",
    "    t = m1[-20:]\n",
    "    print m1.encode(\"hex\"), m.encode(\"hex\"), t.encode(\"hex\")\n",
    "    t1 = hmac_sha1(k_mac, m)\n",
    "    if t != t1:\n",
    "        print \"INVALID MAC\"\n",
    "        return \"0\"\n",
    "    return m"
   ]
  },
  {
   "cell_type": "code",
   "execution_count": 10,
   "metadata": {
    "collapsed": false
   },
   "outputs": [
    {
     "name": "stdout",
     "output_type": "stream",
     "text": [
      "c201dccaaf58e0e2c91eee854780c082960e5fe7c3df1a26b84b67bca2a587fb6a7f3e12d1a997bf845d89bf65d47051\n",
      "m2 000000dcb4e75b8e3df0410f583c5731908be581c4ea97090909090909090909\n",
      "000000dcb4e75b8e3df0410f583c5731908be581c4ea97 000000 dcb4e75b8e3df0410f583c5731908be581c4ea97\n",
      "\u0000\u0000\u0000\n"
     ]
    }
   ],
   "source": [
    "cipt = encrypt(\"\\x00\\x00\\x00\\x00\\x00\\x00\\x00\\x00\\x00\\x00\\x00\\x00\\x00\\x00\\x00\\x00\", \"gharshchaturvedi\", \"\\x00\\x00\\x00\").encode(\"hex\")\n",
    "print cipt\n",
    "plaint = decrypt(\"\\x00\\x00\\x00\\x00\\x00\\x00\\x00\\x00\\x00\\x00\\x00\\x00\\x00\\x00\\x00\\x00\", \"gharshchaturvedi\", cipt)\n",
    "print plaint"
   ]
  },
  {
   "cell_type": "code",
   "execution_count": 59,
   "metadata": {
    "collapsed": false,
    "scrolled": true
   },
   "outputs": [
    {
     "name": "stdout",
     "output_type": "stream",
     "text": [
      "0caaa7d8e7078d3ba1602ddb42a1755c1b8dcf4e\n",
      "0caaa7d8e7078d3ba1602ddb42a1755c1b8dcf4e 0caaa7d8e7078d3ba1602ddb42a1755c1b8dcf4e 20\n"
     ]
    }
   ],
   "source": [
    "print hmac_sha1(\"\\x0f\\x10\".encode('hex').decode('hex'), \"hello\")\n",
    "h = hmac.new(\"\\x0f\\x10\", \"\", hashlib.sha1)\n",
    "h.update(\"hello\")\n",
    "print h.hexdigest(), bytes(bytearray(h.hexdigest())), len(h.digest())"
   ]
  },
  {
   "cell_type": "code",
   "execution_count": 26,
   "metadata": {
    "collapsed": false,
    "scrolled": true
   },
   "outputs": [
    {
     "data": {
      "text/plain": [
       "'a1e47ad7136a1db096707d7c0e73c3d9bba90888862f1e7e3b6419265f089ed21adfd2f2bd18ed3add16d2aa986b4de59ae7af984a11b992466c0711546fbbca1c4e0e9def6aee0c105b14802d0879b232a1a19bb56099ecf7797de81e232d00ef3f0304281601046df0a835e33fdf5ef42f3e6a4c15e7f0e4d8fa27319e83e7'"
      ]
     },
     "execution_count": 26,
     "metadata": {},
     "output_type": "execute_result"
    }
   ],
   "source": [
    "str2 = \"bdddfd4487922193f0f0b83b663572c5487d9a769e52654286072d653ca3caf8b500f0bd02290bbba7b6953d08f1c5f62e574bf2d407c71604ea384c89d917b4\"\n",
    "aes_cbc_dec(\"1234567890abcdef\", \"bdddfd4487922193\", str2).encode(\"hex\")"
   ]
  },
  {
   "cell_type": "code",
   "execution_count": 56,
   "metadata": {
    "collapsed": false
   },
   "outputs": [
    {
     "data": {
      "text/plain": [
       "1"
      ]
     },
     "execution_count": 56,
     "metadata": {},
     "output_type": "execute_result"
    }
   ],
   "source": [
    "verify_padding(\"abc\\x05\\x05\\x05\\x05\\x05\"[-5:])"
   ]
  },
  {
   "cell_type": "code",
   "execution_count": 37,
   "metadata": {
    "collapsed": false
   },
   "outputs": [
    {
     "data": {
      "text/plain": [
       "15"
      ]
     },
     "execution_count": 37,
     "metadata": {},
     "output_type": "execute_result"
    }
   ],
   "source": [
    "int(str(bytes(bytearray([15]))*(15))[-1].encode('hex'), 16)"
   ]
  },
  {
   "cell_type": "code",
   "execution_count": 63,
   "metadata": {
    "collapsed": true
   },
   "outputs": [],
   "source": [
    "kx = \"gharshchaturvedi\""
   ]
  },
  {
   "cell_type": "code",
   "execution_count": 80,
   "metadata": {
    "collapsed": false
   },
   "outputs": [
    {
     "data": {
      "text/plain": [
       "'dcb4e75b8e3df0410f583c5731908be581c4ea97'"
      ]
     },
     "execution_count": 80,
     "metadata": {},
     "output_type": "execute_result"
    }
   ],
   "source": [
    "hmac_sha1(kx, \"\\x00\\x00\\x00\")"
   ]
  },
  {
   "cell_type": "code",
   "execution_count": 71,
   "metadata": {
    "collapsed": false
   },
   "outputs": [
    {
     "data": {
      "text/plain": [
       "'\\x00\\x00\\x00'"
      ]
     },
     "execution_count": 71,
     "metadata": {},
     "output_type": "execute_result"
    }
   ],
   "source": [
    "strxor_c(\"\\x11\\x11\\x11\", 0x11)"
   ]
  },
  {
   "cell_type": "code",
   "execution_count": null,
   "metadata": {
    "collapsed": true
   },
   "outputs": [],
   "source": []
  }
 ],
 "metadata": {
  "anaconda-cloud": {},
  "kernelspec": {
   "display_name": "Python [Root]",
   "language": "python",
   "name": "Python [Root]"
  },
  "language_info": {
   "codemirror_mode": {
    "name": "ipython",
    "version": 2
   },
   "file_extension": ".py",
   "mimetype": "text/x-python",
   "name": "python",
   "nbconvert_exporter": "python",
   "pygments_lexer": "ipython2",
   "version": "2.7.12"
  }
 },
 "nbformat": 4,
 "nbformat_minor": 0
}
